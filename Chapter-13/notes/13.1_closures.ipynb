{
 "cells": [
  {
   "cell_type": "markdown",
   "metadata": {},
   "source": [
    "## Closures: Anonymous Functions that Capture Their Environment\n",
    "\n",
    "closures are anonymous functions you can save in a variable or pass as arguments to other functions.\n",
    "- can be created in one place and then called elsewhere to evaluate it in a different context.\n",
    "- closures can capture values from the scope in which they’re defined.\n",
    "- closures in rust are like lambdas in python\n",
    "\n",
    "closures capture a variable using `||` and are followed by an expression: `|_| <expr>`"
   ]
  },
  {
   "cell_type": "markdown",
   "metadata": {},
   "source": [
    "### Capturing the Environment with Closures\n",
    "\n",
    "Use an enum called `ShirtColor` with variants `Red` and `Blue`. We represent the company’s inventory with an\n",
    "`Inventory` struct that has a field named `shirts` that contains a `Vec<ShirtColor>` representing the shirt\n",
    "colors currently in stock. The method `giveaway` defined on `Inventory` gets the optional shirt color preference\n",
    "of the free shirt winner, and returns the shirt color the person will get. Listing 13-1:"
   ]
  },
  {
   "cell_type": "code",
   "execution_count": null,
   "metadata": {},
   "outputs": [],
   "source": [
    "#[derive(Debug, PartialEq, Copy, Clone)]\n",
    "enum ShirtColor {\n",
    "    Red,\n",
    "    Blue,\n",
    "}\n",
    "\n",
    "struct Inventory {\n",
    "    shirts: Vec<ShirtColor>,\n",
    "}\n",
    "\n",
    "impl Inventory {\n",
    "    fn giveaway(&self, user_preference: Option<ShirtColor>) -> ShirtColor {\n",
    "        user_preference.unwrap_or_else(|| self.most_stocked())  // closure used here, captures nothing\n",
    "    }\n",
    "\n",
    "    fn most_stocked(&self) -> ShirtColor {\n",
    "        let mut num_red = 0;\n",
    "        let mut num_blue = 0;\n",
    "\n",
    "        for color in &self.shirts {\n",
    "            match color {\n",
    "                ShirtColor::Red => num_red += 1,\n",
    "                ShirtColor::Blue => num_blue += 1,\n",
    "            }\n",
    "        }\n",
    "        if num_red > num_blue {\n",
    "            ShirtColor::Red\n",
    "        } else {\n",
    "            ShirtColor::Blue\n",
    "        }\n",
    "    }\n",
    "}\n",
    "\n",
    "fn main() {\n",
    "    let store = Inventory {\n",
    "        shirts: vec![ShirtColor::Blue, ShirtColor::Red, ShirtColor::Blue],\n",
    "    };\n",
    "\n",
    "    let user_pref1 = Some(ShirtColor::Red);\n",
    "    let giveaway1 = store.giveaway(user_pref1);\n",
    "    println!(\n",
    "        \"The user with preference {:?} gets {:?}\",\n",
    "        user_pref1, giveaway1\n",
    "    );\n",
    "\n",
    "    let user_pref2 = None;\n",
    "    let giveaway2 = store.giveaway(user_pref2);\n",
    "    println!(\n",
    "        \"The user with preference {:?} gets {:?}\",\n",
    "        user_pref2, giveaway2\n",
    "    );\n",
    "}\n",
    "\n",
    "main()"
   ]
  },
  {
   "cell_type": "markdown",
   "metadata": {},
   "source": [
    "### Closure Type Inference and Annotation\n",
    "\n",
    "we can add type annotations if we want to increase explicitness and clarity at the cost of being more verbose than is strictly necessary"
   ]
  },
  {
   "cell_type": "code",
   "execution_count": null,
   "metadata": {},
   "outputs": [],
   "source": [
    "use std::thread;\n",
    "use std::time::Duration;\n",
    "\n",
    "fn generate_workout(intensity: u32, random_number: u32) {\n",
    "    let expensive_closure = |num: u32| -> u32 {\n",
    "        println!(\"calculating slowly...\");\n",
    "        thread::sleep(Duration::from_secs(2));\n",
    "        num\n",
    "    };\n",
    "\n",
    "    if intensity < 25 {\n",
    "        println!(\"Today, do {} pushups!\", expensive_closure(intensity));\n",
    "        println!(\"Next, do {} situps!\", expensive_closure(intensity));\n",
    "    } else {\n",
    "        if random_number == 3 {\n",
    "            println!(\"Take a break today! Remember to stay hydrated!\");\n",
    "        } else {\n",
    "            println!(\n",
    "                \"Today, run for {} minutes!\",\n",
    "                expensive_closure(intensity)\n",
    "            );\n",
    "        }\n",
    "    }\n",
    "}\n",
    "\n",
    "fn main() {\n",
    "    let simulated_user_specified_value = 10;\n",
    "    let simulated_random_number = 7;\n",
    "\n",
    "    generate_workout(simulated_user_specified_value, simulated_random_number);\n",
    "}\n",
    "\n",
    "main()"
   ]
  },
  {
   "cell_type": "markdown",
   "metadata": {},
   "source": [
    "With type annotations added, the syntax of closures looks more similar to the syntax of functions. \n",
    "added some spaces to line up the relevant parts. This illustrates how closure syntax is similar to\n",
    "function syntax except for the use of pipes and the amount of syntax that is optional:\n",
    "\n",
    "```Rust\n",
    "fn  add_one_v1   (x: u32) -> u32 { x + 1 }\n",
    "let add_one_v2 = |x: u32| -> u32 { x + 1 };\n",
    "let add_one_v3 = |x|             { x + 1 };\n",
    "let add_one_v4 = |x|               x + 1  ;\n",
    "```"
   ]
  },
  {
   "cell_type": "markdown",
   "metadata": {
    "vscode": {
     "languageId": "rust"
    }
   },
   "source": [
    "For closure definitions, the compiler will infer one concrete type for each of their parameters and for their return value. Meaning that if you define a closure without any type annotations, and you use that closure with different types later, the compiler will throw a `mismatched types` error"
   ]
  },
  {
   "cell_type": "markdown",
   "metadata": {},
   "source": [
    "What is the rationale for why Rust infers the types of arguments/returns for closures, but not for top-level functions (defined with `fn`)?\n",
    "- Top-level functions can be part of a library's external interface, while closures cannot be directly exposed.\n",
    "\n",
    "Rust permits pattern matching within closure arguments, including the use of underscores. For example, you could write:\n",
    "```rust\n",
    "let f = |_| (); // sometimes called the \"toilet closure\"\n",
    "let s = String::from(\"Hello\");\n",
    "f(s);\n",
    "```\n",
    "What best describes the relationship between `f` and `s` here?\n",
    "- `f` (toilet closure) causes `s` to be immediately dropped. "
   ]
  },
  {
   "cell_type": "markdown",
   "metadata": {},
   "source": [
    "### Capturing References or Moving Ownership\n",
    "\n",
    "Closures can capture values from their environment in three ways, which directly map to the three ways a function can take a parameter:\n",
    "- borrowing immutably\n",
    "- borrowing mutably\n",
    "- taking ownership\n",
    "\n",
    "The closure will decide which of these to use based on what the body of the function does with the captured values.\n",
    "\n",
    "define a closure that captures an immutable reference to the vector named list because it only needs an immutable reference to print the value:"
   ]
  },
  {
   "cell_type": "code",
   "execution_count": 5,
   "metadata": {},
   "outputs": [
    {
     "name": "stdout",
     "output_type": "stream",
     "text": [
      "Before defining closure: [1, 2, 3]\n",
      "Before calling closure: [1, 2, 3]\n",
      "From closure: [1, 2, 3]\n",
      "After calling closure: [1, 2, 3]\n"
     ]
    },
    {
     "data": {
      "text/plain": [
       "()"
      ]
     },
     "execution_count": 5,
     "metadata": {},
     "output_type": "execute_result"
    }
   ],
   "source": [
    "fn main() {\n",
    "    let list = vec![1, 2, 3];\n",
    "    println!(\"Before defining closure: {list:?}\");\n",
    "\n",
    "    let only_borrows = || println!(\"From closure: {list:?}\");\n",
    "\n",
    "    println!(\"Before calling closure: {list:?}\");\n",
    "    only_borrows();\n",
    "    println!(\"After calling closure: {list:?}\");\n",
    "}\n",
    "\n",
    "main()"
   ]
  },
  {
   "cell_type": "markdown",
   "metadata": {},
   "source": [
    "Change the closure body so that it adds an element to the list vector. The closure now captures a mutable reference:"
   ]
  },
  {
   "cell_type": "code",
   "execution_count": 2,
   "metadata": {},
   "outputs": [
    {
     "name": "stdout",
     "output_type": "stream",
     "text": [
      "Before defining closure: [1, 2, 3]\n",
      "After calling closure: [1, 2, 3, 7]\n"
     ]
    },
    {
     "data": {
      "text/plain": [
       "()"
      ]
     },
     "execution_count": 2,
     "metadata": {},
     "output_type": "execute_result"
    }
   ],
   "source": [
    "fn main() {\n",
    "    let mut list = vec![1, 2, 3];\n",
    "    println!(\"Before defining closure: {list:?}\");\n",
    "\n",
    "    let mut borrows_mutably = || list.push(7);\n",
    "    // println!(\"{:?}\", list); // Error: cannot borrow `list` as immutable beause it is also borrowed as mutable\n",
    "    borrows_mutably();\n",
    "    println!(\"After calling closure: {list:?}\");\n",
    "}\n",
    "\n",
    "main()"
   ]
  },
  {
   "cell_type": "markdown",
   "metadata": {
    "vscode": {
     "languageId": "rust"
    }
   },
   "source": [
    "Can use the `move` keyword before parameter list to force the closure to take ownership of the values it uses in the environment, despite closure body not requiring ownership.\n",
    "- This is mainly useful when passing a closure to a new thread to move the data so that it’s owne by the new thread:"
   ]
  },
  {
   "cell_type": "code",
   "execution_count": 7,
   "metadata": {},
   "outputs": [
    {
     "name": "stdout",
     "output_type": "stream",
     "text": [
      "Before defining closure: [1, 2, 3]\n",
      "From thread: [1, 2, 3]\n"
     ]
    },
    {
     "data": {
      "text/plain": [
       "()"
      ]
     },
     "execution_count": 7,
     "metadata": {},
     "output_type": "execute_result"
    }
   ],
   "source": [
    "use std::thread;\n",
    "\n",
    "fn main() {\n",
    "    let list = vec![1, 2, 3];\n",
    "    println!(\"Before defining closure: {list:?}\");\n",
    "\n",
    "    thread::spawn(move || println!(\"From thread: {list:?}\"))\n",
    "        .join()\n",
    "        .unwrap();\n",
    "}\n",
    "\n",
    "main()"
   ]
  },
  {
   "cell_type": "markdown",
   "metadata": {},
   "source": [
    "### Moving Captured Values Out of Closures and the `Fn` Traits\n",
    "\n",
    "A closure body can do any of the following:\n",
    "- move a captured value out of the closure\n",
    "- mutate the captured value\n",
    "- neither move nor mutate the value\n",
    "- capture nothing from the environment to begin with.\n",
    "\n",
    "The way a closure captures and handles values from the environment affects which traits the closure implements, and traits are how functions and structs specify the kinds of closures they can use. Closures will automatically implement at least one of the following three `Fn` traits (can also implement all of them) depending on how the closure's body handles the values:\n",
    "\n",
    "1. `FnOnce` applies to closures that can be called once.\n",
    "    - All closures implement at least this trait, because all closures can be called. A closure that moves captured values out of its body will only implement `FnOnce` and none of the other `Fn` traits, because it can only be called once.\n",
    "2. `FnMut` applies to closures that don’t move captured values out of their body, but that might mutate the captured values.\n",
    "    - These can be called more than once.\n",
    "3. `Fn` applies to closures that don’t move captured values out of their body, don’t mutate captured values, and those that capture nothing from their environment.\n",
    "    - These closures can be called more than once without mutating their environment, which is important in cases such as calling a closure multiple times concurrently."
   ]
  },
  {
   "cell_type": "markdown",
   "metadata": {},
   "source": [
    "### Closures Must Name Captured Lifetimes\n",
    "\n",
    "When designing functions that accept or return closures, think about the lifetime of data captured by the closure. For example, a simple program that is supposed to return a closure that clones a string:\n",
    "\n",
    "```rust\n",
    "fn make_a_cloner(s_ref: &str) -> impl Fn() -> String {\n",
    "    move || s_ref.to_string()\n",
    "}\n",
    "```\n",
    "```\n",
    "error[E0700]: hidden type for `impl Fn() -> String` captures lifetime that does not appear in bounds\n",
    " --> test.rs:2:5\n",
    "  |\n",
    "1 | fn make_a_cloner(s_ref: &str) -> impl Fn() -> String {\n",
    "  |                         ---- hidden type `[closure@test.rs:2:5: 2:12]` captures the anonymous lifetime defined here\n",
    "2 |     move || s_ref.to_string()\n",
    "  |     ^^^^^^^^^^^^^^^^^^^^^^^^^\n",
    "```\n",
    " the issue is that we need to tell Rust that the closure returned from `make_a_cloner` must not live longer than `s_ref`. We can do that explicitly using a lifetime parameter like so:\n",
    " \n",
    " ```rust\n",
    " //              vvvv         vv                             vvvv                \n",
    "fn make_a_cloner<'a>(s_ref: &'a str) -> impl Fn() -> String + 'a {\n",
    "    move || s_ref.to_string()\n",
    "}\n",
    "```\n",
    "which basically says: `s_ref` is a string reference that lives for `'a`. Adding `+ 'a` to the return type’s trait bounds indicates that the closure must live no longer than `'a`. Therefore Rust deduces this function is now safe\n",
    "\n",
    "The return type never mentioned this lifetime, so Rust could not deduce that `make_a_cloner` was safe. But if we explicitly say that the closure captures the lifetime of `s_ref`, then our function compiles.\n",
    "\n",
    "can also use the lifetime elision rules to make the function type more concise. We can remove the `<'a>` generic so long as we keep an indicator that the returned closure depends on some lifetime, like this: \n",
    "```rust\n",
    "fn make_a_cloner(s_ref: &str) -> impl Fn() -> String + '_ {\n",
    "    move || s_ref.to_string()\n",
    "}\n",
    "```"
   ]
  },
  {
   "cell_type": "code",
   "execution_count": 8,
   "metadata": {},
   "outputs": [],
   "source": [
    "use std::thread;\n",
    "\n",
    "fn main() {\n",
    "    let list = vec![1, 2, 3];\n",
    "    println!(\"Before defining closure: {list:?}\");\n",
    "\n",
    "    thread::spawn(move || println!(\"From thread: {list:?}\"))\n",
    "        .join()\n",
    "        .unwrap();\n",
    "}"
   ]
  }
 ],
 "metadata": {
  "kernelspec": {
   "display_name": "Rust",
   "language": "rust",
   "name": "rust"
  },
  "language_info": {
   "codemirror_mode": "rust",
   "file_extension": ".rs",
   "mimetype": "text/rust",
   "name": "rust",
   "pygment_lexer": "rust",
   "version": ""
  }
 },
 "nbformat": 4,
 "nbformat_minor": 2
}
